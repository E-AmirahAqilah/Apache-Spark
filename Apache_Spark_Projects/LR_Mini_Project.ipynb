{
 "cells": [
  {
   "cell_type": "markdown",
   "metadata": {},
   "source": [
    "<img src=\"images/cads-logo.png\" style=\"height: 100px;\" align=left> <img src=\"images/apache_spark.png\" style=\"height: 20%;width:20%\" align=right>"
   ]
  },
  {
   "cell_type": "markdown",
   "metadata": {},
   "source": [
    "# Linear Regression Mini Project"
   ]
  },
  {
   "cell_type": "markdown",
   "metadata": {},
   "source": [
    "Suppose that you work for a ship manufacturing company that builds cruise liners. Currently, they are building new ships for some customers, and they want you, as a data scientist, to help them with estimating how many crew members a ship will require. \n",
    "They stored all the previous data related to their cruses in a csv file, and the data look like the following list:\n",
    "\n",
    " **Feature Name**\n",
    "- Ship Name\n",
    "- Cruise Line\n",
    "- Age (as of 2013) \n",
    "- Tonnage (1000s of tons)\n",
    "- passengers (100s)\n",
    "- Length (100s of feet)\n",
    "- Cabins  (100s)\n",
    "- Passenger Density\n",
    "- Crew  (100s)\n",
    "\n",
    "You should create a regression model that will help predict how many crew members will be required for the new ships. The design team also declared that they have found that particular cruise lines will differ in acceptable crew counts, so it seems it is a critical feature to include in your linear regression model. In the end, evaluate the performance of your model.\n",
    "\n"
   ]
  },
  {
   "cell_type": "code",
   "execution_count": null,
   "metadata": {},
   "outputs": [],
   "source": [
    "from pyspark.sql import SparkSession"
   ]
  },
  {
   "cell_type": "code",
   "execution_count": null,
   "metadata": {},
   "outputs": [],
   "source": [
    "spark = SparkSession.builder.appName('cruise').getOrCreate()"
   ]
  },
  {
   "cell_type": "code",
   "execution_count": null,
   "metadata": {},
   "outputs": [],
   "source": [
    "df = spark.read.csv('cruise_ship_info.csv',inferSchema = True, header = True)"
   ]
  },
  {
   "cell_type": "code",
   "execution_count": null,
   "metadata": {},
   "outputs": [],
   "source": [
    "df.printSchema()"
   ]
  },
  {
   "cell_type": "code",
   "execution_count": null,
   "metadata": {},
   "outputs": [],
   "source": [
    "df.show(5)"
   ]
  }
 ],
 "metadata": {
  "kernelspec": {
   "display_name": "Python 3",
   "language": "python",
   "name": "python3"
  },
  "language_info": {
   "codemirror_mode": {
    "name": "ipython",
    "version": 3
   },
   "file_extension": ".py",
   "mimetype": "text/x-python",
   "name": "python",
   "nbconvert_exporter": "python",
   "pygments_lexer": "ipython3",
   "version": "3.7.6"
  }
 },
 "nbformat": 4,
 "nbformat_minor": 2
}
